{
 "cells": [
  {
   "cell_type": "code",
   "execution_count": null,
   "id": "197e2624",
   "metadata": {},
   "outputs": [
    {
     "name": "stdout",
     "output_type": "stream",
     "text": [
      "kajal\n",
      "21\n"
     ]
    }
   ],
   "source": [
    "d = {\"name\": \"kajal\", \"age\": 21}\n",
    "\n",
    "print(d[\"name\"])  # works\n",
    "print(d[\"age\"])   # works\n",
    "\n",
    "# But this will NOT work:\n",
    "# print(d.name)\n",
    "# print(d.age)\n"
   ]
  },
  {
   "cell_type": "markdown",
   "id": "92f035de",
   "metadata": {},
   "source": [
    "ConfigBox (from box library) is used to make working with dictionaries easier and more readable.\n",
    "\n",
    "Purpose: Allows dot notation (d.name) instead of key access (d[\"name\"]).\n",
    "\n",
    "Use case: Commonly used for handling configuration files (YAML/JSON) in ML/DL projects."
   ]
  },
  {
   "cell_type": "code",
   "execution_count": 8,
   "id": "6c7ad3bb",
   "metadata": {},
   "outputs": [
    {
     "name": "stdout",
     "output_type": "stream",
     "text": [
      "kajal\n",
      "kajal\n"
     ]
    }
   ],
   "source": [
    "from box import ConfigBox\n",
    "d = {\"name\": \"kajal\", \"age\": 21}\n",
    "box_d = ConfigBox(d)\n",
    "\n",
    "print(box_d[\"name\"])\n",
    "print(box_d.name)"
   ]
  },
  {
   "cell_type": "code",
   "execution_count": 9,
   "id": "0de5fc88",
   "metadata": {},
   "outputs": [
    {
     "data": {
      "text/plain": [
       "box.config_box.ConfigBox"
      ]
     },
     "execution_count": 9,
     "metadata": {},
     "output_type": "execute_result"
    }
   ],
   "source": [
    "type(box_d)"
   ]
  },
  {
   "cell_type": "code",
   "execution_count": 10,
   "id": "2bdf50a3",
   "metadata": {},
   "outputs": [
    {
     "name": "stdout",
     "output_type": "stream",
     "text": [
      "6\n",
      "33\n"
     ]
    }
   ],
   "source": [
    "# ensure annotations\n",
    "\n",
    "def get_product(x:int, y:int) -> int:\n",
    "    return x*y\n",
    "\n",
    "print(get_product(x=2, y=3))\n",
    "print(get_product(x=2, y=\"3\"))"
   ]
  },
  {
   "cell_type": "code",
   "execution_count": null,
   "id": "881a6d6e",
   "metadata": {},
   "outputs": [
    {
     "name": "stdout",
     "output_type": "stream",
     "text": [
      "6\n"
     ]
    }
   ],
   "source": [
    "from ensure import ensure_annotations\n",
    "\n",
    "@ensure_annotations\n",
    "def get_product_ea(x:int, y:int) -> int:\n",
    "    return x*y\n",
    "\n",
    "print(get_product_ea(x=2, y=3))\n",
    "# print(get_product_ea(x=2, y=\"3\")) this will raise error this time\n"
   ]
  },
  {
   "cell_type": "code",
   "execution_count": null,
   "id": "c911a42a",
   "metadata": {},
   "outputs": [],
   "source": []
  }
 ],
 "metadata": {
  "kernelspec": {
   "display_name": "kidneyClassifier",
   "language": "python",
   "name": "python3"
  },
  "language_info": {
   "codemirror_mode": {
    "name": "ipython",
    "version": 3
   },
   "file_extension": ".py",
   "mimetype": "text/x-python",
   "name": "python",
   "nbconvert_exporter": "python",
   "pygments_lexer": "ipython3",
   "version": "3.9.24"
  }
 },
 "nbformat": 4,
 "nbformat_minor": 5
}
